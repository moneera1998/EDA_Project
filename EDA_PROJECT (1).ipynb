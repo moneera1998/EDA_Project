{
 "cells": [
  {
   "cell_type": "code",
   "execution_count": null,
   "id": "fe4c2e2d",
   "metadata": {},
   "outputs": [],
   "source": [
    "\n"
   ]
  },
  {
   "cell_type": "code",
   "execution_count": 24,
   "id": "0f8705d4",
   "metadata": {},
   "outputs": [
    {
     "name": "stdout",
     "output_type": "stream",
     "text": [
      "   index   C/A  UNIT       SCP STATION LINENAME  DIVISON        DATE  \\\n",
      "0      0  A002  R051  02-00-00   59 ST  NQR456W      NaN  09/25/2021   \n",
      "1      1  A002  R051  02-00-00   59 ST  NQR456W      NaN  09/25/2021   \n",
      "2      2  A002  R051  02-00-00   59 ST  NQR456W      NaN  09/25/2021   \n",
      "3      3  A002  R051  02-00-00   59 ST  NQR456W      NaN  09/25/2021   \n",
      "4      4  A002  R051  02-00-00   59 ST  NQR456W      NaN  09/25/2021   \n",
      "\n",
      "       TIME     DESC  ENTRIES  EXITS                   DATE_TIME  \\\n",
      "0  00:00:00  REGULAR  7641078    NaN  2021-09-25 00:00:00.000000   \n",
      "1  04:00:00  REGULAR  7641091    NaN  2021-09-25 04:00:00.000000   \n",
      "2  08:00:00  REGULAR  7641100    NaN  2021-09-25 08:00:00.000000   \n",
      "3  12:00:00  REGULAR  7641135    NaN  2021-09-25 12:00:00.000000   \n",
      "4  16:00:00  REGULAR  7641265    NaN  2021-09-25 16:00:00.000000   \n",
      "\n",
      "               Turnstile  Week_Day  \n",
      "0  A002R05102-00-0059 ST  Saturday  \n",
      "1  A002R05102-00-0059 ST  Saturday  \n",
      "2  A002R05102-00-0059 ST  Saturday  \n",
      "3  A002R05102-00-0059 ST  Saturday  \n",
      "4  A002R05102-00-0059 ST  Saturday  \n"
     ]
    },
    {
     "data": {
      "image/png": "[encoded data removed]",
      "text/plain": [
       "<Figure size 432x288 with 1 Axes>"
      ]
     },
     "metadata": {
      "needs_background": "light"
     },
     "output_type": "display_data"
    },
    {
     "data": {
      "image/png": "[encoded data removed]",
      "text/plain": [
       "<Figure size 432x288 with 1 Axes>"
      ]
     },
     "metadata": {
      "needs_background": "light"
     },
     "output_type": "display_data"
    }
   ],
   "source": [
    "\"\"\" import libraries \"\"\"\n",
    "\n",
    "import pandas as pd\n",
    "import sqlite3 as sql\n",
    "import sqlalchemy as alchemy\n",
    "import datetime\n",
    "import seaborn as sns\n",
    "import matplotlib.pyplot as plt\n",
    "import numpy as np\n",
    "\n",
    "\"\"\"\" connect to DB \"\"\"\n",
    "\n",
    "db = sql.connect('MTA.db')\n",
    "sql_query = pd.read_sql_query ('''\n",
    "                               SELECT\n",
    "                               *\n",
    "                               FROM subway\n",
    "                               ''', db)\n",
    "df = pd.DataFrame(sql_query, columns = ['index','C/A','UNIT','SCP','STATION','LINENAME','DIVISON','DATE','TIME','DESC','ENTRIES','EXITS','DATE_TIME','Turnstile','Week_Day'])\n",
    "\n",
    "print(df.head())\n",
    "\n",
    "\n",
    "\"\"\"\" remove duplicates and spaces \"\"\"\n",
    "df.columns = [column.strip() for column in df.columns]\n",
    "df.drop_duplicates()\n",
    "\n",
    "\"\"\" get daily entries per turnstile \"\"\"\n",
    "\n",
    "turnstiles_df =df.groupby([\"C/A\", \"UNIT\", \"SCP\", \"STATION\",\"DATE_TIME\",\"Week_Day\"])[[\"ENTRIES\"]].sum()\n",
    "turnstiles_df[\"FOUR_HOURS_STATION_ENTRIES\"]=turnstiles_df.ENTRIES.diff()\n",
    "\n",
    "turnstiles_df[\"FOUR_HOURS_STATION_ENTRIES\"]=(\n",
    "np.where((\n",
    "    (turnstiles_df.ENTRIES ==0) & (turnstiles_df.FOUR_HOURS_STATION_ENTRIES < 0)),0 # counter reset \n",
    "    , \n",
    "    np.where((turnstiles_df.ENTRIES !=0) & (turnstiles_df.FOUR_HOURS_STATION_ENTRIES < 0)\n",
    "             , abs(turnstiles_df.FOUR_HOURS_STATION_ENTRIES), # return abs value\n",
    "         turnstiles_df.FOUR_HOURS_STATION_ENTRIES) # return same value\n",
    "))\n",
    "turnstiles_df.reset_index(inplace=True)\n",
    "\n",
    "\n",
    "\n",
    "\n",
    "\"\"\"\" group by stations \"\"\"\n",
    "top_stations = turnstiles_df[['STATION','FOUR_HOURS_STATION_ENTRIES']].head(10000)\n",
    "\n",
    "\"\"\"\" group by weekdays \"\"\"\n",
    "top_weekdays = turnstiles_df[['Week_Day','FOUR_HOURS_STATION_ENTRIES']]\n",
    "\"\"\"\" plot station barchart \"\"\"\n",
    "\n",
    "ax = sns.barplot(x=top_stations['STATION'], y=top_stations[\"FOUR_HOURS_STATION_ENTRIES\"],palette=\"Blues_d\")\n",
    "\n",
    "\n",
    "plt.title('Daily Entries per Station')\n",
    "plt.xlabel('Station')\n",
    "plt.ylabel('Entries')\n",
    "\n",
    "plt.show()\n",
    "\n",
    "\"\"\"\" plot weekdays barchart \"\"\" \n",
    "ax2 = sns.barplot(x=top_weekdays['Week_Day'], y=top_weekdays[\"FOUR_HOURS_STATION_ENTRIES\"],palette=\"Blues_d\")\n",
    "plt.title('Daily Entries per Weekday')\n",
    "plt.xlabel('Weekday')\n",
    "plt.ylabel('Entries')\n",
    "\n",
    "plt.show()"
   ]
  },
  {
   "cell_type": "code",
   "execution_count": null,
   "id": "e8568fd9",
   "metadata": {},
   "outputs": [],
   "source": [
    "\n"
   ]
  },
  {
   "cell_type": "code",
   "execution_count": null,
   "id": "39c1b391",
   "metadata": {},
   "outputs": [],
   "source": []
  },
  {
   "cell_type": "code",
   "execution_count": null,
   "id": "d80bceb7",
   "metadata": {},
   "outputs": [],
   "source": []
  },
  {
   "cell_type": "code",
   "execution_count": null,
   "id": "3b7ec57e",
   "metadata": {},
   "outputs": [],
   "source": []
  }
 ],
 "metadata": {
  "kernelspec": {
   "display_name": "Python 3",
   "language": "python",
   "name": "python3"
  },
  "language_info": {
   "codemirror_mode": {
    "name": "ipython",
    "version": 3
   },
   "file_extension": ".py",
   "mimetype": "text/x-python",
   "name": "python",
   "nbconvert_exporter": "python",
   "pygments_lexer": "ipython3",
   "version": "3.8.8"
  }
 },
 "nbformat": 4,
 "nbformat_minor": 5
}
