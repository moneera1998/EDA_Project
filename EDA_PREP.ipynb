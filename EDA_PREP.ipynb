{
 "cells": [
  {
   "cell_type": "code",
   "execution_count": null,
   "id": "2f04828d",
   "metadata": {},
   "outputs": [],
   "source": [
    "\"\"\" import libraries \"\"\"\n",
    "\n",
    "import pandas as pd\n",
    "import sqlite3 as sql\n",
    "import sqlalchemy as alchemy\n",
    "import datetime\n",
    "\n",
    "\n",
    "\"\"\" read dataset from text file\"\"\"\n",
    "def get_data(week_nums):\n",
    "    url = \"http://web.mta.info/developers/data/nyct/turnstile/turnstile_{}.txt\"\n",
    "    dfs = []\n",
    "    for week_num in week_nums:\n",
    "        file_url = url.format(week_num)\n",
    "        dfs.append(pd.read_csv(file_url))\n",
    "    return pd.concat(dfs)\n",
    "        \n",
    "week_nums = [211002, 210925, 210918,210911,210904,210828,210821,210814,210807,210731,210724,210717,210710,210703]\n",
    "turnstiles_df = get_data(week_nums)\n",
    "\n",
    "\"\"\"\" make time series \"\"\"\n",
    "\n",
    "turnstiles_df[\"DATE_TIME\"] = pd.to_datetime(turnstiles_df.DATE + \" \" + turnstiles_df.TIME, \n",
    "                                            format=\"%m/%d/%Y %H:%M:%S\")\n",
    "\n",
    "\"\"\"\" add turnstile and weekday columns \"\"\"\n",
    "\n",
    "turnstiles_df['Turnstile'] = turnstiles_df['C/A'] + turnstiles_df['UNIT'] + turnstiles_df['SCP'] + turnstiles_df['STATION']\n",
    "turnstiles_df['Week_Day'] = turnstiles_df['DATE_TIME'].dt.day_name()\n",
    "\n",
    "\"\"\"\" ingest data into DB \"\"\"\n",
    "\n",
    "engine = alchemy.create_engine('sqlite:///MTA.db')\n",
    "turnstiles_df.to_sql('subway',engine, if_exists='append')"
   ]
  }
 ],
 "metadata": {
  "kernelspec": {
   "display_name": "Python 3",
   "language": "python",
   "name": "python3"
  },
  "language_info": {
   "codemirror_mode": {
    "name": "ipython",
    "version": 3
   },
   "file_extension": ".py",
   "mimetype": "text/x-python",
   "name": "python",
   "nbconvert_exporter": "python",
   "pygments_lexer": "ipython3",
   "version": "3.8.8"
  }
 },
 "nbformat": 4,
 "nbformat_minor": 5
}
